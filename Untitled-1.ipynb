{
 "cells": [
  {
   "cell_type": "code",
   "execution_count": 39,
   "id": "b4567251",
   "metadata": {},
   "outputs": [],
   "source": [
    "import numpy as np\n",
    "import pandas as pd\n"
   ]
  },
  {
   "cell_type": "code",
   "execution_count": 40,
   "id": "590cb4cd",
   "metadata": {},
   "outputs": [],
   "source": [
    "wygo = pd.read_csv('Statistik_Wygo.csv', sep=',')"
   ]
  },
  {
   "cell_type": "code",
   "execution_count": 41,
   "id": "be7ac379",
   "metadata": {},
   "outputs": [
    {
     "name": "stdout",
     "output_type": "stream",
     "text": [
      "825\n",
      "436\n",
      "66\n",
      "14\n",
      "4\n",
      "84\n",
      "389\n",
      "9.821428571428571\n",
      "5.190476190476191\n"
     ]
    }
   ],
   "source": [
    "print(wygo['Tore Wygorazzi'].sum())\n",
    "print(wygo['Tore Gegner'].sum())\n",
    "#Ja mit 1 ersetzen, Nein mit 0\n",
    "wygo['Sieg'] = np.where(wygo['Sieg'] == 'Ja', 1, 0).astype(int)\n",
    "print(wygo['Sieg'].sum())\n",
    "\n",
    "wygo[' Niederlage'] = np.where(wygo[' Niederlage'] == 'Ja', 1, 0).astype(int)\n",
    "print(wygo[' Niederlage'].sum())\n",
    "\n",
    "wygo[' Unentschieden'] = np.where(wygo[' Unentschieden'] == 'Ja', 1, 0).astype(int)\n",
    "print(wygo[' Unentschieden'].sum())\n",
    "\n",
    "print(len(wygo))\n",
    "\n",
    "print(wygo['Tore Wygorazzi'].sum()-wygo['Tore Gegner'].sum())\n",
    "\n",
    "print(wygo['Tore Wygorazzi'].sum()/len(wygo))\n",
    "\n",
    "print(wygo['Tore Gegner'].sum()/len(wygo))"
   ]
  },
  {
   "cell_type": "code",
   "execution_count": 42,
   "id": "b250ac70",
   "metadata": {},
   "outputs": [
    {
     "data": {
      "text/plain": [
       "Index(['Saison', 'Format', 'Team', 'Gegner', 'Tore Wygorazzi', 'Tore Gegner',\n",
       "       'Sieg', ' Niederlage', ' Unentschieden', ' Liga Wygorazzi',\n",
       "       'Liga Gegner', ' Match_Id'],\n",
       "      dtype='object')"
      ]
     },
     "execution_count": 42,
     "metadata": {},
     "output_type": "execute_result"
    }
   ],
   "source": [
    "wygo.columns"
   ]
  },
  {
   "cell_type": "code",
   "execution_count": 45,
   "id": "011b45d7",
   "metadata": {},
   "outputs": [],
   "source": [
    "df = pd.read_csv(\"Spieler_Statistik_25_26.csv\")\n",
    "\n",
    "\n",
    "# \"-\" in Plus und Minus durch NaN ersetzen, dann in Zahlen umwandeln\n",
    "df[\"Plus\"] = df[\"Plus\"].replace(\"-\", np.nan).astype(float)\n",
    "df[\"Minus\"] = df[\"Minus\"].replace(\"-\", np.nan).astype(float)\n",
    "\n",
    "# NaN-Werte durch 0 ersetzen\n",
    "df[[\"Plus\", \"Minus\"]] = df[[\"Plus\", \"Minus\"]].fillna(0)"
   ]
  },
  {
   "cell_type": "code",
   "execution_count": 46,
   "id": "9bb1ee8a",
   "metadata": {},
   "outputs": [],
   "source": [
    "# Plus-Minus und Punkte berechnen\n",
    "df[\"PlusMinus\"] = df[\"Plus\"] - df[\"Minus\"]\n",
    "df[\"Punkte\"] = df[\"T\"] + df[\"A\"]"
   ]
  },
  {
   "cell_type": "code",
   "execution_count": 53,
   "id": "9ee30baa",
   "metadata": {},
   "outputs": [],
   "source": [
    "df[\"PlusMinus_L\"] = df[\"Linie-Plus\"] - df[\"Linie-Minus\"]\n",
    "top3 = df.groupby(\"Linie\")['PlusMinus_L'].sum().sort_values(ascending=False).head(4).reset_index()\n",
    "top3['PlusMinus_L'] = top3['PlusMinus_L']/3\n",
    "top3 = top3[top3[\"Linie\"] != 0]\n"
   ]
  },
  {
   "cell_type": "code",
   "execution_count": 54,
   "id": "6f0d27a1",
   "metadata": {},
   "outputs": [],
   "source": [
    "df[\"Linie\"] = df[\"Linie\"].astype(str)"
   ]
  }
 ],
 "metadata": {
  "kernelspec": {
   "display_name": "Python 3",
   "language": "python",
   "name": "python3"
  },
  "language_info": {
   "codemirror_mode": {
    "name": "ipython",
    "version": 3
   },
   "file_extension": ".py",
   "mimetype": "text/x-python",
   "name": "python",
   "nbconvert_exporter": "python",
   "pygments_lexer": "ipython3",
   "version": "3.11.9"
  }
 },
 "nbformat": 4,
 "nbformat_minor": 5
}
